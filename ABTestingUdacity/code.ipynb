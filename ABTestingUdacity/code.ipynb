{
 "cells": [
  {
   "cell_type": "markdown",
   "metadata": {},
   "source": [
    "# Measuring Variability\n",
    "This csv file below contains rough estimates of the baseline values for these metrics (again, these numbers have been changed from Udacity's true numbers).\n",
    "\n",
    "For each of the metrics the standard deviation is calculated for a sample size of 5000 unique cookies visiting the course overview page."
   ]
  },
  {
   "cell_type": "markdown",
   "metadata": {},
   "source": [
    "## baseline values"
   ]
  },
  {
   "cell_type": "code",
   "execution_count": 3,
   "metadata": {},
   "outputs": [
    {
     "data": {
      "text/html": [
       "<div>\n",
       "<style scoped>\n",
       "    .dataframe tbody tr th:only-of-type {\n",
       "        vertical-align: middle;\n",
       "    }\n",
       "\n",
       "    .dataframe tbody tr th {\n",
       "        vertical-align: top;\n",
       "    }\n",
       "\n",
       "    .dataframe thead th {\n",
       "        text-align: right;\n",
       "    }\n",
       "</style>\n",
       "<table border=\"1\" class=\"dataframe\">\n",
       "  <thead>\n",
       "    <tr style=\"text-align: right;\">\n",
       "      <th></th>\n",
       "      <th>0</th>\n",
       "      <th>1</th>\n",
       "    </tr>\n",
       "  </thead>\n",
       "  <tbody>\n",
       "    <tr>\n",
       "      <th>0</th>\n",
       "      <td>Unique cookies to view course overview page pe...</td>\n",
       "      <td>40000.000000</td>\n",
       "    </tr>\n",
       "    <tr>\n",
       "      <th>1</th>\n",
       "      <td>Unique cookies to click \"Start free trial\" per...</td>\n",
       "      <td>3200.000000</td>\n",
       "    </tr>\n",
       "    <tr>\n",
       "      <th>2</th>\n",
       "      <td>Enrollments per day:</td>\n",
       "      <td>660.000000</td>\n",
       "    </tr>\n",
       "    <tr>\n",
       "      <th>3</th>\n",
       "      <td>Click-through-probability on \"Start free trial\":</td>\n",
       "      <td>0.080000</td>\n",
       "    </tr>\n",
       "    <tr>\n",
       "      <th>4</th>\n",
       "      <td>Probability of enrolling, given click:</td>\n",
       "      <td>0.206250</td>\n",
       "    </tr>\n",
       "    <tr>\n",
       "      <th>5</th>\n",
       "      <td>Probability of payment, given enroll:</td>\n",
       "      <td>0.530000</td>\n",
       "    </tr>\n",
       "    <tr>\n",
       "      <th>6</th>\n",
       "      <td>Probability of payment, given click</td>\n",
       "      <td>0.109313</td>\n",
       "    </tr>\n",
       "  </tbody>\n",
       "</table>\n",
       "</div>"
      ],
      "text/plain": [
       "                                                   0             1\n",
       "0  Unique cookies to view course overview page pe...  40000.000000\n",
       "1  Unique cookies to click \"Start free trial\" per...   3200.000000\n",
       "2                               Enrollments per day:    660.000000\n",
       "3   Click-through-probability on \"Start free trial\":      0.080000\n",
       "4             Probability of enrolling, given click:      0.206250\n",
       "5              Probability of payment, given enroll:      0.530000\n",
       "6                Probability of payment, given click      0.109313"
      ]
     },
     "execution_count": 3,
     "metadata": {},
     "output_type": "execute_result"
    }
   ],
   "source": [
    "#import packages\n",
    "import pandas as pd \n",
    "import numpy as np \n",
    "import matplotlib.pyplot as plt\n",
    "\n",
    "#import csv file\n",
    "baseline = pd.read_csv('Final Project Baseline Values - Sheet1.csv', header=None)\n",
    "baseline"
   ]
  },
  {
   "cell_type": "code",
   "execution_count": 4,
   "metadata": {},
   "outputs": [
    {
     "data": {
      "text/html": [
       "<div>\n",
       "<style scoped>\n",
       "    .dataframe tbody tr th:only-of-type {\n",
       "        vertical-align: middle;\n",
       "    }\n",
       "\n",
       "    .dataframe tbody tr th {\n",
       "        vertical-align: top;\n",
       "    }\n",
       "\n",
       "    .dataframe thead th {\n",
       "        text-align: right;\n",
       "    }\n",
       "</style>\n",
       "<table border=\"1\" class=\"dataframe\">\n",
       "  <thead>\n",
       "    <tr style=\"text-align: right;\">\n",
       "      <th></th>\n",
       "      <th>Metrics</th>\n",
       "      <th>Estimator</th>\n",
       "      <th>dmin</th>\n",
       "    </tr>\n",
       "  </thead>\n",
       "  <tbody>\n",
       "    <tr>\n",
       "      <th>0</th>\n",
       "      <td>cookies</td>\n",
       "      <td>40000.000000</td>\n",
       "      <td>3000.0000</td>\n",
       "    </tr>\n",
       "    <tr>\n",
       "      <th>1</th>\n",
       "      <td>cliks</td>\n",
       "      <td>3200.000000</td>\n",
       "      <td>240.0000</td>\n",
       "    </tr>\n",
       "    <tr>\n",
       "      <th>2</th>\n",
       "      <td>user-id</td>\n",
       "      <td>660.000000</td>\n",
       "      <td>-50.0000</td>\n",
       "    </tr>\n",
       "    <tr>\n",
       "      <th>3</th>\n",
       "      <td>click-through-probability</td>\n",
       "      <td>0.080000</td>\n",
       "      <td>0.0100</td>\n",
       "    </tr>\n",
       "    <tr>\n",
       "      <th>4</th>\n",
       "      <td>gross conversion</td>\n",
       "      <td>0.206250</td>\n",
       "      <td>-0.0100</td>\n",
       "    </tr>\n",
       "    <tr>\n",
       "      <th>5</th>\n",
       "      <td>retention</td>\n",
       "      <td>0.530000</td>\n",
       "      <td>0.0100</td>\n",
       "    </tr>\n",
       "    <tr>\n",
       "      <th>6</th>\n",
       "      <td>net conversion</td>\n",
       "      <td>0.109313</td>\n",
       "      <td>0.0075</td>\n",
       "    </tr>\n",
       "  </tbody>\n",
       "</table>\n",
       "</div>"
      ],
      "text/plain": [
       "                     Metrics     Estimator       dmin\n",
       "0                    cookies  40000.000000  3000.0000\n",
       "1                      cliks   3200.000000   240.0000\n",
       "2                    user-id    660.000000   -50.0000\n",
       "3  click-through-probability      0.080000     0.0100\n",
       "4           gross conversion      0.206250    -0.0100\n",
       "5                  retention      0.530000     0.0100\n",
       "6             net conversion      0.109313     0.0075"
      ]
     },
     "execution_count": 4,
     "metadata": {},
     "output_type": "execute_result"
    }
   ],
   "source": [
    "# adjust the dataset \n",
    "baseline.columns = ['Metrics','Estimator']\n",
    "baseline['Metrics'] = ['cookies', 'cliks', 'user-id','click-through-probability','gross conversion','retention','net conversion']\n",
    "baseline['dmin'] = [3000, 240, -50, 0.01, -0.01, 0.01, 0.0075]\n",
    "baseline"
   ]
  },
  {
   "cell_type": "markdown",
   "metadata": {},
   "source": [
    "## scaled estimator\n",
    "Since we have already set the sample size of 5000 unique cookies, we should calculate the estimated data for clicks, user-id, which are necessary for us to get the standard deviation in the certain sample size."
   ]
  },
  {
   "cell_type": "code",
   "execution_count": 5,
   "metadata": {},
   "outputs": [
    {
     "data": {
      "text/html": [
       "<div>\n",
       "<style scoped>\n",
       "    .dataframe tbody tr th:only-of-type {\n",
       "        vertical-align: middle;\n",
       "    }\n",
       "\n",
       "    .dataframe tbody tr th {\n",
       "        vertical-align: top;\n",
       "    }\n",
       "\n",
       "    .dataframe thead th {\n",
       "        text-align: right;\n",
       "    }\n",
       "</style>\n",
       "<table border=\"1\" class=\"dataframe\">\n",
       "  <thead>\n",
       "    <tr style=\"text-align: right;\">\n",
       "      <th></th>\n",
       "      <th>Metrics</th>\n",
       "      <th>Estimator</th>\n",
       "      <th>dmin</th>\n",
       "      <th>Scaled Estimator</th>\n",
       "    </tr>\n",
       "  </thead>\n",
       "  <tbody>\n",
       "    <tr>\n",
       "      <th>0</th>\n",
       "      <td>cookies</td>\n",
       "      <td>40000.000000</td>\n",
       "      <td>3000.0000</td>\n",
       "      <td>5000.0</td>\n",
       "    </tr>\n",
       "    <tr>\n",
       "      <th>1</th>\n",
       "      <td>cliks</td>\n",
       "      <td>3200.000000</td>\n",
       "      <td>240.0000</td>\n",
       "      <td>400.0</td>\n",
       "    </tr>\n",
       "    <tr>\n",
       "      <th>2</th>\n",
       "      <td>user-id</td>\n",
       "      <td>660.000000</td>\n",
       "      <td>-50.0000</td>\n",
       "      <td>82.5</td>\n",
       "    </tr>\n",
       "    <tr>\n",
       "      <th>3</th>\n",
       "      <td>click-through-probability</td>\n",
       "      <td>0.080000</td>\n",
       "      <td>0.0100</td>\n",
       "      <td>NaN</td>\n",
       "    </tr>\n",
       "    <tr>\n",
       "      <th>4</th>\n",
       "      <td>gross conversion</td>\n",
       "      <td>0.206250</td>\n",
       "      <td>-0.0100</td>\n",
       "      <td>NaN</td>\n",
       "    </tr>\n",
       "    <tr>\n",
       "      <th>5</th>\n",
       "      <td>retention</td>\n",
       "      <td>0.530000</td>\n",
       "      <td>0.0100</td>\n",
       "      <td>NaN</td>\n",
       "    </tr>\n",
       "    <tr>\n",
       "      <th>6</th>\n",
       "      <td>net conversion</td>\n",
       "      <td>0.109313</td>\n",
       "      <td>0.0075</td>\n",
       "      <td>NaN</td>\n",
       "    </tr>\n",
       "  </tbody>\n",
       "</table>\n",
       "</div>"
      ],
      "text/plain": [
       "                     Metrics     Estimator       dmin  Scaled Estimator\n",
       "0                    cookies  40000.000000  3000.0000            5000.0\n",
       "1                      cliks   3200.000000   240.0000             400.0\n",
       "2                    user-id    660.000000   -50.0000              82.5\n",
       "3  click-through-probability      0.080000     0.0100               NaN\n",
       "4           gross conversion      0.206250    -0.0100               NaN\n",
       "5                  retention      0.530000     0.0100               NaN\n",
       "6             net conversion      0.109313     0.0075               NaN"
      ]
     },
     "execution_count": 5,
     "metadata": {},
     "output_type": "execute_result"
    }
   ],
   "source": [
    "# insert column\n",
    "baseline['Scaled Estimator'] = np.nan\n",
    "\n",
    "# scaled fraction \n",
    "fraction = 5000/40000\n",
    "\n",
    "for i in range(3):\n",
    "    baseline.loc[i,'Scaled Estimator'] = baseline['Estimator'][i]*fraction\n",
    "    \n",
    "baseline"
   ]
  },
  {
   "cell_type": "markdown",
   "metadata": {},
   "source": [
    "## Assumption\n",
    "Now, we can calculate the standard deviation of gross conversion, retention, and net conversion. And there is an assumption that we should make. For those three propability metrics, we assume their distributions are approximately normal (binomial distribution) because the scaled estimators are large (Central Limit Theorem).\n",
    "\n",
    "However, if we are not sure. We can also test it using the normal approximation, i.e np>10 and np(1-p)>10"
   ]
  },
  {
   "cell_type": "code",
   "execution_count": 6,
   "metadata": {},
   "outputs": [
    {
     "name": "stdout",
     "output_type": "stream",
     "text": [
      "gross conversion :  n = 400.0 is valid\n",
      "retention :  n = 82.5 is valid\n",
      "net conversion :  n = 400.0 is valid\n"
     ]
    }
   ],
   "source": [
    "# the normal approximation function\n",
    "def normal_A(n,p,metric):\n",
    "    if 10 < n*p and 10 < n*(1-p):\n",
    "        print(metric,\":  n =\", n, \"is valid\")\n",
    "    else:\n",
    "        print(metric,\":  n =\", n, \"is not valid\")\n",
    "\n",
    "# check \n",
    "# remember the sample size for different metrics are different\n",
    "for i,j in zip([1,2,1],[4,5,6]):\n",
    "    normal_A (baseline.loc[i, \"Scaled Estimator\"], baseline.loc[j,\"Estimator\"], baseline.loc[j,\"Metrics\"])"
   ]
  },
  {
   "cell_type": "markdown",
   "metadata": {},
   "source": [
    "## standard deviation\n",
    "Now we can set the assumption that these three metrics are approximately binomial distribution.\n",
    "In binomial distribution, the standard deviation = sqrt(p(1-p)/n)"
   ]
  },
  {
   "cell_type": "code",
   "execution_count": 7,
   "metadata": {},
   "outputs": [
    {
     "data": {
      "text/html": [
       "<div>\n",
       "<style scoped>\n",
       "    .dataframe tbody tr th:only-of-type {\n",
       "        vertical-align: middle;\n",
       "    }\n",
       "\n",
       "    .dataframe tbody tr th {\n",
       "        vertical-align: top;\n",
       "    }\n",
       "\n",
       "    .dataframe thead th {\n",
       "        text-align: right;\n",
       "    }\n",
       "</style>\n",
       "<table border=\"1\" class=\"dataframe\">\n",
       "  <thead>\n",
       "    <tr style=\"text-align: right;\">\n",
       "      <th></th>\n",
       "      <th>Metrics</th>\n",
       "      <th>Estimator</th>\n",
       "      <th>dmin</th>\n",
       "      <th>Standard Deviation</th>\n",
       "      <th>Scaled Estimator</th>\n",
       "    </tr>\n",
       "  </thead>\n",
       "  <tbody>\n",
       "    <tr>\n",
       "      <th>0</th>\n",
       "      <td>cookies</td>\n",
       "      <td>40000.000000</td>\n",
       "      <td>3000.0000</td>\n",
       "      <td>NaN</td>\n",
       "      <td>5000.0</td>\n",
       "    </tr>\n",
       "    <tr>\n",
       "      <th>1</th>\n",
       "      <td>cliks</td>\n",
       "      <td>3200.000000</td>\n",
       "      <td>240.0000</td>\n",
       "      <td>NaN</td>\n",
       "      <td>400.0</td>\n",
       "    </tr>\n",
       "    <tr>\n",
       "      <th>2</th>\n",
       "      <td>user-id</td>\n",
       "      <td>660.000000</td>\n",
       "      <td>-50.0000</td>\n",
       "      <td>NaN</td>\n",
       "      <td>82.5</td>\n",
       "    </tr>\n",
       "    <tr>\n",
       "      <th>3</th>\n",
       "      <td>click-through-probability</td>\n",
       "      <td>0.080000</td>\n",
       "      <td>0.0100</td>\n",
       "      <td>NaN</td>\n",
       "      <td>NaN</td>\n",
       "    </tr>\n",
       "    <tr>\n",
       "      <th>4</th>\n",
       "      <td>gross conversion</td>\n",
       "      <td>0.206250</td>\n",
       "      <td>-0.0100</td>\n",
       "      <td>0.020231</td>\n",
       "      <td>NaN</td>\n",
       "    </tr>\n",
       "    <tr>\n",
       "      <th>5</th>\n",
       "      <td>retention</td>\n",
       "      <td>0.530000</td>\n",
       "      <td>0.0100</td>\n",
       "      <td>0.054949</td>\n",
       "      <td>NaN</td>\n",
       "    </tr>\n",
       "    <tr>\n",
       "      <th>6</th>\n",
       "      <td>net conversion</td>\n",
       "      <td>0.109313</td>\n",
       "      <td>0.0075</td>\n",
       "      <td>0.015602</td>\n",
       "      <td>NaN</td>\n",
       "    </tr>\n",
       "  </tbody>\n",
       "</table>\n",
       "</div>"
      ],
      "text/plain": [
       "                     Metrics     Estimator       dmin  Standard Deviation  \\\n",
       "0                    cookies  40000.000000  3000.0000                 NaN   \n",
       "1                      cliks   3200.000000   240.0000                 NaN   \n",
       "2                    user-id    660.000000   -50.0000                 NaN   \n",
       "3  click-through-probability      0.080000     0.0100                 NaN   \n",
       "4           gross conversion      0.206250    -0.0100            0.020231   \n",
       "5                  retention      0.530000     0.0100            0.054949   \n",
       "6             net conversion      0.109313     0.0075            0.015602   \n",
       "\n",
       "   Scaled Estimator  \n",
       "0            5000.0  \n",
       "1             400.0  \n",
       "2              82.5  \n",
       "3               NaN  \n",
       "4               NaN  \n",
       "5               NaN  \n",
       "6               NaN  "
      ]
     },
     "execution_count": 7,
     "metadata": {},
     "output_type": "execute_result"
    }
   ],
   "source": [
    "# inset column\n",
    "baseline.insert(3, 'Standard Deviation', np.nan)\n",
    "\n",
    "# the std function\n",
    "import math\n",
    "def b_std(n,p):\n",
    "    return math.sqrt(p*(1-p)/n)\n",
    "\n",
    "# calculation\n",
    "for i,j in zip([1,2,1],[4,5,6]):\n",
    "    baseline.loc[j,'Standard Deviation'] = b_std(baseline.loc[i, \"Scaled Estimator\"], baseline.loc[j,\"Estimator\"])\n",
    "\n",
    "baseline"
   ]
  },
  {
   "cell_type": "markdown",
   "metadata": {},
   "source": [
    "Notice: Since the denominator for gross conversion and net conversion is the number of clicks, which is also the unit of diversion, we can expect their analytical variance is close to the empirical variance. However, for the rentention, we recommend to collect an empirical variance. Based on the difference between the denominator and the unit of diversion, we could expect the empirical variance of the retention would be higher than the analyticaal variance."
   ]
  },
  {
   "cell_type": "markdown",
   "metadata": {},
   "source": [
    "# Sizing\n",
    "## Choosing Number of Samples given Power\n",
    "### calculation\n",
    "We set the alpha to be 0.05 and the statistical power to be 0.80 (i.e. beta is 0.20).   \n",
    "And we applied an online caculator: https://www.evanmiller.org/ab-testing/sample-size.html"
   ]
  },
  {
   "cell_type": "markdown",
   "metadata": {},
   "source": [
    "### Gross Conversion\n",
    "Baseline Conversion: 20.625%   \n",
    "Minimum Detectable Effect: 1%   \n",
    "alpha: 5%   \n",
    "beta: 20%   \n",
    "1 - beta: 80%   \n",
    "sample size = 25,835 enrollments/group   \n",
    "Number of groups = 2 (experiment and control)   \n",
    "total sample size = 51,670 enrollments   \n",
    "clicks/pageview: 3200/40000 = .08 clicks/pageview   \n",
    "pageviews = 645,875   \n",
    "### Retention\n",
    "Baseline Conversion: 53%   \n",
    "Minimum Detectable Effect: 1%   \n",
    "alpha: 5%   \n",
    "beta: 20%   \n",
    "1 - beta: 80%   \n",
    "sample size = 39,155 enrollments/group   \n",
    "Number of groups = 2 (experiment and control)   \n",
    "total sample size = 78,230 enrollments   \n",
    "enrollments/pageview: 660/40000 = .0165 enrollments/pageview   \n",
    "pageviews = 78,230/.0165 = 4,741,212   \n",
    "### Net Conversion\n",
    "Baseline Conversion: 10.9313%   \n",
    "Minimum Detectable Effect: .75%   \n",
    "alpha: 5%   \n",
    "beta: 20%   \n",
    "1 - beta: 80%   \n",
    "sample size = 27,413 enrollments/group   \n",
    "Number of groups = 2 (experiment and control)   \n",
    "total sample size = 54,826   \n",
    "clicks/pageview: 3200/40000 = .08 clicks/pageview   \n",
    "pageviews = 685,325   "
   ]
  },
  {
   "cell_type": "code",
   "execution_count": 10,
   "metadata": {},
   "outputs": [
    {
     "data": {
      "text/html": [
       "<div>\n",
       "<style scoped>\n",
       "    .dataframe tbody tr th:only-of-type {\n",
       "        vertical-align: middle;\n",
       "    }\n",
       "\n",
       "    .dataframe tbody tr th {\n",
       "        vertical-align: top;\n",
       "    }\n",
       "\n",
       "    .dataframe thead th {\n",
       "        text-align: right;\n",
       "    }\n",
       "</style>\n",
       "<table border=\"1\" class=\"dataframe\">\n",
       "  <thead>\n",
       "    <tr style=\"text-align: right;\">\n",
       "      <th></th>\n",
       "      <th>Metrics</th>\n",
       "      <th>Estimator</th>\n",
       "      <th>dmin</th>\n",
       "      <th>Standard Deviation</th>\n",
       "      <th>Scaled Estimator</th>\n",
       "      <th>samplesize</th>\n",
       "    </tr>\n",
       "  </thead>\n",
       "  <tbody>\n",
       "    <tr>\n",
       "      <th>0</th>\n",
       "      <td>cookies</td>\n",
       "      <td>40000.000000</td>\n",
       "      <td>3000.0000</td>\n",
       "      <td>NaN</td>\n",
       "      <td>5000.0</td>\n",
       "      <td>NaN</td>\n",
       "    </tr>\n",
       "    <tr>\n",
       "      <th>1</th>\n",
       "      <td>cliks</td>\n",
       "      <td>3200.000000</td>\n",
       "      <td>240.0000</td>\n",
       "      <td>NaN</td>\n",
       "      <td>400.0</td>\n",
       "      <td>NaN</td>\n",
       "    </tr>\n",
       "    <tr>\n",
       "      <th>2</th>\n",
       "      <td>user-id</td>\n",
       "      <td>660.000000</td>\n",
       "      <td>-50.0000</td>\n",
       "      <td>NaN</td>\n",
       "      <td>82.5</td>\n",
       "      <td>NaN</td>\n",
       "    </tr>\n",
       "    <tr>\n",
       "      <th>3</th>\n",
       "      <td>click-through-probability</td>\n",
       "      <td>0.080000</td>\n",
       "      <td>0.0100</td>\n",
       "      <td>NaN</td>\n",
       "      <td>NaN</td>\n",
       "      <td>NaN</td>\n",
       "    </tr>\n",
       "    <tr>\n",
       "      <th>4</th>\n",
       "      <td>gross conversion</td>\n",
       "      <td>0.206250</td>\n",
       "      <td>-0.0100</td>\n",
       "      <td>0.020231</td>\n",
       "      <td>NaN</td>\n",
       "      <td>645875.0</td>\n",
       "    </tr>\n",
       "    <tr>\n",
       "      <th>5</th>\n",
       "      <td>retention</td>\n",
       "      <td>0.530000</td>\n",
       "      <td>0.0100</td>\n",
       "      <td>0.054949</td>\n",
       "      <td>NaN</td>\n",
       "      <td>4741212.0</td>\n",
       "    </tr>\n",
       "    <tr>\n",
       "      <th>6</th>\n",
       "      <td>net conversion</td>\n",
       "      <td>0.109313</td>\n",
       "      <td>0.0075</td>\n",
       "      <td>0.015602</td>\n",
       "      <td>NaN</td>\n",
       "      <td>685325.0</td>\n",
       "    </tr>\n",
       "  </tbody>\n",
       "</table>\n",
       "</div>"
      ],
      "text/plain": [
       "                     Metrics     Estimator       dmin  Standard Deviation  \\\n",
       "0                    cookies  40000.000000  3000.0000                 NaN   \n",
       "1                      cliks   3200.000000   240.0000                 NaN   \n",
       "2                    user-id    660.000000   -50.0000                 NaN   \n",
       "3  click-through-probability      0.080000     0.0100                 NaN   \n",
       "4           gross conversion      0.206250    -0.0100            0.020231   \n",
       "5                  retention      0.530000     0.0100            0.054949   \n",
       "6             net conversion      0.109313     0.0075            0.015602   \n",
       "\n",
       "   Scaled Estimator  samplesize  \n",
       "0            5000.0         NaN  \n",
       "1             400.0         NaN  \n",
       "2              82.5         NaN  \n",
       "3               NaN         NaN  \n",
       "4               NaN    645875.0  \n",
       "5               NaN   4741212.0  \n",
       "6               NaN    685325.0  "
      ]
     },
     "execution_count": 10,
     "metadata": {},
     "output_type": "execute_result"
    }
   ],
   "source": [
    "# inset column\n",
    "baseline['samplesize'] = [np.nan,np.nan,np.nan,np.nan,645875,4741212,685325]\n",
    "\n",
    "baseline"
   ]
  },
  {
   "cell_type": "markdown",
   "metadata": {},
   "source": [
    "Given the calculation above, to test these three hypothesis, we need 4,741,212 pageviews."
   ]
  },
  {
   "cell_type": "markdown",
   "metadata": {},
   "source": [
    "# Choosing Duration vs. Exposure\n",
    "From the Udacity, given there are 40k pageviews per day, we can first assume we can use 100% of users for this experiment."
   ]
  },
  {
   "cell_type": "code",
   "execution_count": 9,
   "metadata": {},
   "outputs": [
    {
     "name": "stdout",
     "output_type": "stream",
     "text": [
      "for the experiment with gross conversion, retention and net conversion, we need:  119  days\n",
      "for the experiment with gross conversion and net conversion, we need:  17  days\n"
     ]
    }
   ],
   "source": [
    "# gross conversion, retention and net conversion\n",
    "print('for the experiment with gross conversion, retention and net conversion, we need: ', \n",
    "      round(4741212/40000),' days')\n",
    "\n",
    "# gross conversion and net conversion\n",
    "print('for the experiment with gross conversion and net conversion, we need: ', \n",
    "      round(685325/40000),' days')"
   ]
  },
  {
   "cell_type": "markdown",
   "metadata": {},
   "source": [
    "Notice: We can see there is a huge difference in experiment duration between using and discarding retention. Therefore, we decide to remove the retention metric for this experiment. Because firstly, using the retention metric will take a long time to conduct this experiment, which will cause opportunity costs(eg. launch more different experiments, spend more time on other feature improvements). Moreover, there will be some business risks that exist if we use the retention metric. For instance, this change will give a worse user experiment decreasing the conversion rate.\n",
    "\n",
    "Also, for the experiment with gross conversion and net conversion, we should reconsider the fraction of Udacity's traffic to be diverted. Considering there might be some seasonal effect for this experiment, 17 days seems not enough for us to certain. Secondly, using full traffic is very costly and risky (opportunity cost & business risk we mentioned above). Diverting a half or lower of traffic will be much safer."
   ]
  },
  {
   "cell_type": "code",
   "execution_count": 8,
   "metadata": {},
   "outputs": [
    {
     "name": "stdout",
     "output_type": "stream",
     "text": [
      "for the experiment using 50% traffic with gross conversion and net conversion, we need:  34  days\n",
      "for the experiment using 45% traffic with gross conversion and net conversion, we need:  38  days\n"
     ]
    }
   ],
   "source": [
    "# gross conversion and net conversion\n",
    "# 50% traffic\n",
    "print('for the experiment using 50% traffic with gross conversion and net conversion, we need: ', \n",
    "      round(685325/(40000*0.5)),' days')\n",
    "\n",
    "# gross conversion and net conversion\n",
    "# 45% traffic\n",
    "print('for the experiment using 45% traffic with gross conversion and net conversion, we need: ', \n",
    "      round(685325/(40000*0.45)),' days')"
   ]
  },
  {
   "cell_type": "markdown",
   "metadata": {},
   "source": [
    "It seems that 38 days are little bit longer, so we will divert 50% traffic for the experiment with gross conversion and net conversion."
   ]
  },
  {
   "cell_type": "markdown",
   "metadata": {},
   "source": [
    "# Analysis\n",
    "Now, we have two datasets from Udacity, one for control group and one for experiment group.\n",
    "\n",
    "The meaning of each column is:\n",
    "\n",
    "Pageviews: Number of unique cookies to view the course overview page that day.   \n",
    "Clicks: Number of unique cookies to click the course overview page that day.   \n",
    "Enrollments: Number of user-ids to enroll in the free trial that day.   \n",
    "Payments: Number of user-ids who who enrolled on that day to remain enrolled for 14 days and thus make a payment. (Note that the date for this column is the start date, that is, the date of enrollment, rather than the date of the payment. The payment happened 14 days later. Because of this, the enrollments and payments are tracked for 14 fewer days than the other columns.)"
   ]
  },
  {
   "cell_type": "code",
   "execution_count": null,
   "metadata": {},
   "outputs": [],
   "source": [
    "# import dataset\n",
    "control = pd.read_csv('data/Final Project Results - Control.csv')\n",
    "experiment = pd.read_csv('data/Final Project Results - Experiment.csv')\n",
    "control.head()"
   ]
  }
 ],
 "metadata": {
  "kernelspec": {
   "display_name": "base",
   "language": "python",
   "name": "python3"
  },
  "language_info": {
   "codemirror_mode": {
    "name": "ipython",
    "version": 3
   },
   "file_extension": ".py",
   "mimetype": "text/x-python",
   "name": "python",
   "nbconvert_exporter": "python",
   "pygments_lexer": "ipython3",
   "version": "3.10.9"
  }
 },
 "nbformat": 4,
 "nbformat_minor": 2
}
