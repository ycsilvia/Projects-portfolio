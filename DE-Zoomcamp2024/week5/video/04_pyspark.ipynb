{
 "cells": [
  {
   "cell_type": "code",
   "execution_count": 2,
   "id": "4b886e3e",
   "metadata": {},
   "outputs": [],
   "source": [
    "import pyspark\n",
    "from pyspark.sql import SparkSession"
   ]
  },
  {
   "cell_type": "code",
   "execution_count": 3,
   "id": "b60572de",
   "metadata": {},
   "outputs": [
    {
     "name": "stderr",
     "output_type": "stream",
     "text": [
      "24/03/26 21:43:45 WARN Utils: Your hostname, Silvialaptop resolves to a loopback address: 127.0.1.1; using 172.31.73.54 instead (on interface eth0)\n",
      "24/03/26 21:43:45 WARN Utils: Set SPARK_LOCAL_IP if you need to bind to another address\n",
      "Setting default log level to \"WARN\".\n",
      "To adjust logging level use sc.setLogLevel(newLevel). For SparkR, use setLogLevel(newLevel).\n",
      "24/03/26 21:43:47 WARN NativeCodeLoader: Unable to load native-hadoop library for your platform... using builtin-java classes where applicable\n"
     ]
    }
   ],
   "source": [
    "spark = SparkSession.builder \\\n",
    "    .master(\"local[*]\") \\\n",
    "    .appName('test') \\\n",
    "    .getOrCreate()"
   ]
  },
  {
   "cell_type": "code",
   "execution_count": 56,
   "id": "dec429ee",
   "metadata": {},
   "outputs": [],
   "source": [
    "df = spark.read \\\n",
    "    .option(\"header\", \"true\") \\\n",
    "    .csv('fhvhv_tripdata_2021-01.csv')"
   ]
  },
  {
   "cell_type": "code",
   "execution_count": 57,
   "id": "7d0e6cba",
   "metadata": {},
   "outputs": [
    {
     "data": {
      "text/plain": [
       "StructType([StructField('hvfhs_license_num', StringType(), True), StructField('dispatching_base_num', StringType(), True), StructField('pickup_datetime', StringType(), True), StructField('dropoff_datetime', StringType(), True), StructField('PULocationID', StringType(), True), StructField('DOLocationID', StringType(), True), StructField('SR_Flag', StringType(), True)])"
      ]
     },
     "execution_count": 57,
     "metadata": {},
     "output_type": "execute_result"
    }
   ],
   "source": [
    "df.schema"
   ]
  },
  {
   "cell_type": "code",
   "execution_count": 58,
   "id": "aa8d4f31",
   "metadata": {},
   "outputs": [],
   "source": [
    "!head -n 1001 fhvhv_tripdata_2021-01.csv > head.csv"
   ]
  },
  {
   "cell_type": "code",
   "execution_count": 59,
   "id": "44db17bc",
   "metadata": {},
   "outputs": [],
   "source": [
    "import pandas as pd"
   ]
  },
  {
   "cell_type": "code",
   "execution_count": 60,
   "id": "758f04f9",
   "metadata": {},
   "outputs": [],
   "source": [
    "df_pandas = pd.read_csv('head.csv')"
   ]
  },
  {
   "cell_type": "code",
   "execution_count": 61,
   "id": "46f87f03",
   "metadata": {},
   "outputs": [
    {
     "data": {
      "text/plain": [
       "hvfhs_license_num        object\n",
       "dispatching_base_num     object\n",
       "pickup_datetime          object\n",
       "dropoff_datetime         object\n",
       "PULocationID              int64\n",
       "DOLocationID              int64\n",
       "SR_Flag                 float64\n",
       "dtype: object"
      ]
     },
     "execution_count": 61,
     "metadata": {},
     "output_type": "execute_result"
    }
   ],
   "source": [
    "df_pandas.dtypes"
   ]
  },
  {
   "cell_type": "code",
   "execution_count": 62,
   "id": "23d05e37",
   "metadata": {},
   "outputs": [
    {
     "data": {
      "text/plain": [
       "StructType([StructField('hvfhs_license_num', StringType(), True), StructField('dispatching_base_num', StringType(), True), StructField('pickup_datetime', StringType(), True), StructField('dropoff_datetime', StringType(), True), StructField('PULocationID', LongType(), True), StructField('DOLocationID', LongType(), True), StructField('SR_Flag', DoubleType(), True)])"
      ]
     },
     "execution_count": 62,
     "metadata": {},
     "output_type": "execute_result"
    }
   ],
   "source": [
    "spark.createDataFrame(df_pandas).schema"
   ]
  },
  {
   "cell_type": "markdown",
   "id": "b7e19c21",
   "metadata": {},
   "source": [
    "Integer - 4 bytes Long - 8 bytes"
   ]
  },
  {
   "cell_type": "code",
   "execution_count": 63,
   "id": "71c7f340",
   "metadata": {},
   "outputs": [],
   "source": [
    "from pyspark.sql import types"
   ]
  },
  {
   "cell_type": "code",
   "execution_count": 64,
   "id": "fcabc3f9",
   "metadata": {},
   "outputs": [],
   "source": [
    "schema = types.StructType([\n",
    "    types.StructField('hvfhs_license_num', types.StringType(), True),\n",
    "    types.StructField('dispatching_base_num', types.StringType(), True),\n",
    "    types.StructField('pickup_datetime', types.TimestampType(), True),\n",
    "    types.StructField('dropoff_datetime', types.TimestampType(), True),\n",
    "    types.StructField('PULocationID', types.IntegerType(), True),\n",
    "    types.StructField('DOLocationID', types.IntegerType(), True),\n",
    "    types.StructField('SR_Flag', types.StringType(), True)\n",
    "])"
   ]
  },
  {
   "cell_type": "code",
   "execution_count": 65,
   "id": "01787249",
   "metadata": {},
   "outputs": [],
   "source": [
    "df = spark.read \\\n",
    "    .option(\"header\", \"true\") \\\n",
    "    .schema(schema) \\\n",
    "    .csv('fhvhv_tripdata_2021-01.csv')"
   ]
  },
  {
   "cell_type": "code",
   "execution_count": 66,
   "id": "c6c812e4",
   "metadata": {},
   "outputs": [
    {
     "data": {
      "text/plain": [
       "[Row(hvfhs_license_num='HV0003', dispatching_base_num='B02682', pickup_datetime=datetime.datetime(2021, 1, 1, 0, 33, 44), dropoff_datetime=datetime.datetime(2021, 1, 1, 0, 49, 7), PULocationID=230, DOLocationID=166, SR_Flag=None),\n",
       " Row(hvfhs_license_num='HV0003', dispatching_base_num='B02682', pickup_datetime=datetime.datetime(2021, 1, 1, 0, 55, 19), dropoff_datetime=datetime.datetime(2021, 1, 1, 1, 18, 21), PULocationID=152, DOLocationID=167, SR_Flag=None),\n",
       " Row(hvfhs_license_num='HV0003', dispatching_base_num='B02764', pickup_datetime=datetime.datetime(2021, 1, 1, 0, 23, 56), dropoff_datetime=datetime.datetime(2021, 1, 1, 0, 38, 5), PULocationID=233, DOLocationID=142, SR_Flag=None),\n",
       " Row(hvfhs_license_num='HV0003', dispatching_base_num='B02764', pickup_datetime=datetime.datetime(2021, 1, 1, 0, 42, 51), dropoff_datetime=datetime.datetime(2021, 1, 1, 0, 45, 50), PULocationID=142, DOLocationID=143, SR_Flag=None),\n",
       " Row(hvfhs_license_num='HV0003', dispatching_base_num='B02764', pickup_datetime=datetime.datetime(2021, 1, 1, 0, 48, 14), dropoff_datetime=datetime.datetime(2021, 1, 1, 1, 8, 42), PULocationID=143, DOLocationID=78, SR_Flag=None),\n",
       " Row(hvfhs_license_num='HV0005', dispatching_base_num='B02510', pickup_datetime=datetime.datetime(2021, 1, 1, 0, 6, 59), dropoff_datetime=datetime.datetime(2021, 1, 1, 0, 43, 1), PULocationID=88, DOLocationID=42, SR_Flag=None),\n",
       " Row(hvfhs_license_num='HV0005', dispatching_base_num='B02510', pickup_datetime=datetime.datetime(2021, 1, 1, 0, 50), dropoff_datetime=datetime.datetime(2021, 1, 1, 1, 4, 57), PULocationID=42, DOLocationID=151, SR_Flag=None),\n",
       " Row(hvfhs_license_num='HV0003', dispatching_base_num='B02764', pickup_datetime=datetime.datetime(2021, 1, 1, 0, 14, 30), dropoff_datetime=datetime.datetime(2021, 1, 1, 0, 50, 27), PULocationID=71, DOLocationID=226, SR_Flag=None),\n",
       " Row(hvfhs_license_num='HV0003', dispatching_base_num='B02875', pickup_datetime=datetime.datetime(2021, 1, 1, 0, 22, 54), dropoff_datetime=datetime.datetime(2021, 1, 1, 0, 30, 20), PULocationID=112, DOLocationID=255, SR_Flag=None),\n",
       " Row(hvfhs_license_num='HV0003', dispatching_base_num='B02875', pickup_datetime=datetime.datetime(2021, 1, 1, 0, 40, 12), dropoff_datetime=datetime.datetime(2021, 1, 1, 0, 53, 31), PULocationID=255, DOLocationID=232, SR_Flag=None)]"
      ]
     },
     "execution_count": 66,
     "metadata": {},
     "output_type": "execute_result"
    }
   ],
   "source": [
    "df.head(10)"
   ]
  },
  {
   "cell_type": "code",
   "execution_count": 67,
   "id": "7c872e9b",
   "metadata": {},
   "outputs": [],
   "source": [
    "df = df.repartition(24)"
   ]
  },
  {
   "cell_type": "code",
   "execution_count": 68,
   "id": "f7cf88be",
   "metadata": {},
   "outputs": [
    {
     "name": "stderr",
     "output_type": "stream",
     "text": [
      "24/03/26 22:21:08 WARN MemoryManager: Total allocation exceeds 95.00% (1,020,054,720 bytes) of heap memory\n",
      "Scaling row group sizes to 95.00% for 8 writers\n",
      "24/03/26 22:21:13 WARN MemoryManager: Total allocation exceeds 95.00% (1,020,054,720 bytes) of heap memory\n",
      "Scaling row group sizes to 95.00% for 8 writers\n",
      "24/03/26 22:21:13 WARN MemoryManager: Total allocation exceeds 95.00% (1,020,054,720 bytes) of heap memory\n",
      "Scaling row group sizes to 95.00% for 8 writers\n",
      "24/03/26 22:21:15 WARN MemoryManager: Total allocation exceeds 95.00% (1,020,054,720 bytes) of heap memory\n",
      "Scaling row group sizes to 95.00% for 8 writers\n",
      "24/03/26 22:21:15 WARN MemoryManager: Total allocation exceeds 95.00% (1,020,054,720 bytes) of heap memory\n",
      "Scaling row group sizes to 95.00% for 8 writers\n",
      "                                                                                \r"
     ]
    }
   ],
   "source": [
    "df.write.parquet('fhvhv/2021/01/')"
   ]
  },
  {
   "cell_type": "code",
   "execution_count": 85,
   "id": "e32f90e1",
   "metadata": {},
   "outputs": [],
   "source": [
    "df = spark.read.parquet('fhvhv/2021/01/')"
   ]
  },
  {
   "cell_type": "code",
   "execution_count": 86,
   "id": "2eaac78e",
   "metadata": {},
   "outputs": [
    {
     "name": "stdout",
     "output_type": "stream",
     "text": [
      "root\n",
      " |-- hvfhs_license_num: string (nullable = true)\n",
      " |-- dispatching_base_num: string (nullable = true)\n",
      " |-- pickup_datetime: timestamp (nullable = true)\n",
      " |-- dropoff_datetime: timestamp (nullable = true)\n",
      " |-- PULocationID: integer (nullable = true)\n",
      " |-- DOLocationID: integer (nullable = true)\n",
      " |-- SR_Flag: string (nullable = true)\n",
      "\n"
     ]
    }
   ],
   "source": [
    "df.printSchema()"
   ]
  },
  {
   "cell_type": "code",
   "execution_count": 87,
   "id": "e47ffbae",
   "metadata": {},
   "outputs": [
    {
     "name": "stdout",
     "output_type": "stream",
     "text": [
      "+-------------------+-------------------+------------+------------+\n",
      "|    pickup_datetime|   dropoff_datetime|PULocationID|DOLocationID|\n",
      "+-------------------+-------------------+------------+------------+\n",
      "|2021-01-01 16:17:16|2021-01-01 16:35:20|         153|         167|\n",
      "|2021-01-04 15:44:57|2021-01-04 15:56:21|         127|         244|\n",
      "|2021-01-03 14:05:52|2021-01-03 14:20:29|         183|          20|\n",
      "|2021-01-01 09:27:50|2021-01-01 09:46:50|         162|         106|\n",
      "|2021-01-04 10:53:41|2021-01-04 11:53:07|          18|          18|\n",
      "|2021-01-04 22:29:41|2021-01-04 22:51:07|          76|         215|\n",
      "|2021-01-02 14:52:09|2021-01-02 15:12:01|         220|          32|\n",
      "|2021-01-01 07:31:49|2021-01-01 07:46:16|         167|          94|\n",
      "|2021-01-02 22:35:51|2021-01-02 23:07:17|          71|         130|\n",
      "|2021-01-01 15:38:12|2021-01-01 15:58:56|         222|          61|\n",
      "|2021-01-05 02:08:44|2021-01-05 02:26:05|         181|          17|\n",
      "|2021-01-01 03:56:09|2021-01-01 04:06:33|         255|          97|\n",
      "|2021-01-02 20:16:11|2021-01-02 20:35:53|         225|          97|\n",
      "|2021-01-04 07:34:31|2021-01-04 07:44:46|         189|          25|\n",
      "|2021-01-03 19:19:53|2021-01-03 19:30:33|         147|          78|\n",
      "|2021-01-04 08:51:08|2021-01-04 09:04:11|         193|         226|\n",
      "|2021-01-04 07:16:55|2021-01-04 07:23:06|         196|         102|\n",
      "|2021-01-02 11:06:51|2021-01-02 11:21:35|          76|          77|\n",
      "|2021-01-01 15:55:06|2021-01-01 16:02:09|         174|         240|\n",
      "|2021-01-05 06:45:46|2021-01-05 06:54:11|         216|         216|\n",
      "+-------------------+-------------------+------------+------------+\n",
      "only showing top 20 rows\n",
      "\n"
     ]
    }
   ],
   "source": [
    "df.select('pickup_datetime','dropoff_datetime','PULocationID','DOLocationID') \\\n",
    ".filter(df.hvfhs_license_num == 'HV0003') \\\n",
    ".show()"
   ]
  },
  {
   "cell_type": "code",
   "execution_count": 88,
   "id": "820b9ced",
   "metadata": {},
   "outputs": [],
   "source": [
    "from pyspark.sql import functions as F"
   ]
  },
  {
   "cell_type": "code",
   "execution_count": 89,
   "id": "4ebbb03c",
   "metadata": {},
   "outputs": [
    {
     "name": "stdout",
     "output_type": "stream",
     "text": [
      "+-----------------+--------------------+-------------------+-------------------+------------+------------+-------+-----------+-------------+\n",
      "|hvfhs_license_num|dispatching_base_num|    pickup_datetime|   dropoff_datetime|PULocationID|DOLocationID|SR_Flag|pickup_date|dropoff_datet|\n",
      "+-----------------+--------------------+-------------------+-------------------+------------+------------+-------+-----------+-------------+\n",
      "|           HV0003|              B02884|2021-01-01 16:17:16|2021-01-01 16:35:20|         153|         167|   NULL| 2021-01-01|   2021-01-01|\n",
      "|           HV0003|              B02882|2021-01-04 15:44:57|2021-01-04 15:56:21|         127|         244|   NULL| 2021-01-04|   2021-01-04|\n",
      "|           HV0005|              B02510|2021-01-04 14:29:31|2021-01-04 14:54:56|         138|          49|   NULL| 2021-01-04|   2021-01-04|\n",
      "|           HV0003|              B02864|2021-01-03 14:05:52|2021-01-03 14:20:29|         183|          20|   NULL| 2021-01-03|   2021-01-03|\n",
      "|           HV0003|              B02867|2021-01-01 09:27:50|2021-01-01 09:46:50|         162|         106|   NULL| 2021-01-01|   2021-01-01|\n",
      "|           HV0005|              B02510|2021-01-05 11:26:21|2021-01-05 11:55:13|         216|         265|   NULL| 2021-01-05|   2021-01-05|\n",
      "|           HV0003|              B02888|2021-01-04 10:53:41|2021-01-04 11:53:07|          18|          18|   NULL| 2021-01-04|   2021-01-04|\n",
      "|           HV0005|              B02510|2021-01-05 05:05:55|2021-01-05 05:20:16|          42|         207|   NULL| 2021-01-05|   2021-01-05|\n",
      "|           HV0003|              B02875|2021-01-04 22:29:41|2021-01-04 22:51:07|          76|         215|   NULL| 2021-01-04|   2021-01-04|\n",
      "|           HV0003|              B02764|2021-01-02 14:52:09|2021-01-02 15:12:01|         220|          32|   NULL| 2021-01-02|   2021-01-02|\n",
      "|           HV0003|              B02875|2021-01-01 07:31:49|2021-01-01 07:46:16|         167|          94|   NULL| 2021-01-01|   2021-01-01|\n",
      "|           HV0003|              B02866|2021-01-02 22:35:51|2021-01-02 23:07:17|          71|         130|   NULL| 2021-01-02|   2021-01-02|\n",
      "|           HV0003|              B02872|2021-01-01 15:38:12|2021-01-01 15:58:56|         222|          61|   NULL| 2021-01-01|   2021-01-01|\n",
      "|           HV0005|              B02510|2021-01-03 08:22:26|2021-01-03 08:34:41|          89|         195|   NULL| 2021-01-03|   2021-01-03|\n",
      "|           HV0003|              B02878|2021-01-05 02:08:44|2021-01-05 02:26:05|         181|          17|   NULL| 2021-01-05|   2021-01-05|\n",
      "|           HV0003|              B02870|2021-01-01 03:56:09|2021-01-01 04:06:33|         255|          97|   NULL| 2021-01-01|   2021-01-01|\n",
      "|           HV0003|              B02866|2021-01-02 20:16:11|2021-01-02 20:35:53|         225|          97|   NULL| 2021-01-02|   2021-01-02|\n",
      "|           HV0003|              B02878|2021-01-04 07:34:31|2021-01-04 07:44:46|         189|          25|   NULL| 2021-01-04|   2021-01-04|\n",
      "|           HV0005|              B02510|2021-01-03 00:05:56|2021-01-03 00:17:52|         151|         116|   NULL| 2021-01-03|   2021-01-03|\n",
      "|           HV0003|              B02877|2021-01-03 19:19:53|2021-01-03 19:30:33|         147|          78|   NULL| 2021-01-03|   2021-01-03|\n",
      "+-----------------+--------------------+-------------------+-------------------+------------+------------+-------+-----------+-------------+\n",
      "only showing top 20 rows\n",
      "\n"
     ]
    }
   ],
   "source": [
    "df \\\n",
    ".withColumn('pickup_date', F.to_date(df.pickup_datetime)) \\\n",
    ".withColumn('dropoff_date', F.to_date(df.dropoff_datetime)) \\\n",
    ".show()"
   ]
  },
  {
   "cell_type": "code",
   "execution_count": 90,
   "id": "d7374b59",
   "metadata": {},
   "outputs": [
    {
     "name": "stdout",
     "output_type": "stream",
     "text": [
      "+-----------------+--------------------+-------------------+-------------------+------------+------------+-------+\n",
      "|hvfhs_license_num|dispatching_base_num|    pickup_datetime|   dropoff_datetime|PULocationID|DOLocationID|SR_Flag|\n",
      "+-----------------+--------------------+-------------------+-------------------+------------+------------+-------+\n",
      "|           HV0003|              B02884|2021-01-01 16:17:16|2021-01-01 16:35:20|         153|         167|   NULL|\n",
      "|           HV0003|              B02882|2021-01-04 15:44:57|2021-01-04 15:56:21|         127|         244|   NULL|\n",
      "|           HV0005|              B02510|2021-01-04 14:29:31|2021-01-04 14:54:56|         138|          49|   NULL|\n",
      "|           HV0003|              B02864|2021-01-03 14:05:52|2021-01-03 14:20:29|         183|          20|   NULL|\n",
      "|           HV0003|              B02867|2021-01-01 09:27:50|2021-01-01 09:46:50|         162|         106|   NULL|\n",
      "|           HV0005|              B02510|2021-01-05 11:26:21|2021-01-05 11:55:13|         216|         265|   NULL|\n",
      "|           HV0003|              B02888|2021-01-04 10:53:41|2021-01-04 11:53:07|          18|          18|   NULL|\n",
      "|           HV0005|              B02510|2021-01-05 05:05:55|2021-01-05 05:20:16|          42|         207|   NULL|\n",
      "|           HV0003|              B02875|2021-01-04 22:29:41|2021-01-04 22:51:07|          76|         215|   NULL|\n",
      "|           HV0003|              B02764|2021-01-02 14:52:09|2021-01-02 15:12:01|         220|          32|   NULL|\n",
      "|           HV0003|              B02875|2021-01-01 07:31:49|2021-01-01 07:46:16|         167|          94|   NULL|\n",
      "|           HV0003|              B02866|2021-01-02 22:35:51|2021-01-02 23:07:17|          71|         130|   NULL|\n",
      "|           HV0003|              B02872|2021-01-01 15:38:12|2021-01-01 15:58:56|         222|          61|   NULL|\n",
      "|           HV0005|              B02510|2021-01-03 08:22:26|2021-01-03 08:34:41|          89|         195|   NULL|\n",
      "|           HV0003|              B02878|2021-01-05 02:08:44|2021-01-05 02:26:05|         181|          17|   NULL|\n",
      "|           HV0003|              B02870|2021-01-01 03:56:09|2021-01-01 04:06:33|         255|          97|   NULL|\n",
      "|           HV0003|              B02866|2021-01-02 20:16:11|2021-01-02 20:35:53|         225|          97|   NULL|\n",
      "|           HV0003|              B02878|2021-01-04 07:34:31|2021-01-04 07:44:46|         189|          25|   NULL|\n",
      "|           HV0005|              B02510|2021-01-03 00:05:56|2021-01-03 00:17:52|         151|         116|   NULL|\n",
      "|           HV0003|              B02877|2021-01-03 19:19:53|2021-01-03 19:30:33|         147|          78|   NULL|\n",
      "+-----------------+--------------------+-------------------+-------------------+------------+------------+-------+\n",
      "only showing top 20 rows\n",
      "\n"
     ]
    }
   ],
   "source": [
    "df.show()"
   ]
  },
  {
   "cell_type": "code",
   "execution_count": 91,
   "id": "a0e98d9e",
   "metadata": {},
   "outputs": [],
   "source": [
    "def crazy_stuff(base_num):\n",
    "    num = int(base_num[1:])\n",
    "    if num % 7 == 0:\n",
    "        return f's/{num:03x}'\n",
    "    elif num % 3 == 0:\n",
    "        return f'a/{num:03x}'\n",
    "    else:\n",
    "        return f'e/{num:03x}'"
   ]
  },
  {
   "cell_type": "code",
   "execution_count": 92,
   "id": "b1a5f11e",
   "metadata": {},
   "outputs": [
    {
     "data": {
      "text/plain": [
       "'s/b44'"
      ]
     },
     "execution_count": 92,
     "metadata": {},
     "output_type": "execute_result"
    }
   ],
   "source": [
    "crazy_stuff('B02884')"
   ]
  },
  {
   "cell_type": "code",
   "execution_count": 93,
   "id": "97a028c6",
   "metadata": {},
   "outputs": [],
   "source": [
    "crazy_stuff_udf = F.udf(crazy_stuff, returnType=types.StringType())"
   ]
  },
  {
   "cell_type": "code",
   "execution_count": 94,
   "id": "8d3e792d",
   "metadata": {},
   "outputs": [
    {
     "name": "stderr",
     "output_type": "stream",
     "text": [
      "[Stage 32:>                                                         (0 + 1) / 1]\r"
     ]
    },
    {
     "name": "stdout",
     "output_type": "stream",
     "text": [
      "+-------+-----------+------------+------------+------------+\n",
      "|base_id|pickup_date|dropoff_date|PULocationID|DOLocationID|\n",
      "+-------+-----------+------------+------------+------------+\n",
      "|  s/b44| 2021-01-01|  2021-01-01|         153|         167|\n",
      "|  e/b42| 2021-01-04|  2021-01-04|         127|         244|\n",
      "|  e/9ce| 2021-01-04|  2021-01-04|         138|          49|\n",
      "|  e/b30| 2021-01-03|  2021-01-03|         183|          20|\n",
      "|  e/b33| 2021-01-01|  2021-01-01|         162|         106|\n",
      "|  e/9ce| 2021-01-05|  2021-01-05|         216|         265|\n",
      "|  e/b48| 2021-01-04|  2021-01-04|          18|          18|\n",
      "|  e/9ce| 2021-01-05|  2021-01-05|          42|         207|\n",
      "|  e/b3b| 2021-01-04|  2021-01-04|          76|         215|\n",
      "|  e/acc| 2021-01-02|  2021-01-02|         220|          32|\n",
      "|  e/b3b| 2021-01-01|  2021-01-01|         167|          94|\n",
      "|  e/b32| 2021-01-02|  2021-01-02|          71|         130|\n",
      "|  e/b38| 2021-01-01|  2021-01-01|         222|          61|\n",
      "|  e/9ce| 2021-01-03|  2021-01-03|          89|         195|\n",
      "|  e/b3e| 2021-01-05|  2021-01-05|         181|          17|\n",
      "|  s/b36| 2021-01-01|  2021-01-01|         255|          97|\n",
      "|  e/b32| 2021-01-02|  2021-01-02|         225|          97|\n",
      "|  e/b3e| 2021-01-04|  2021-01-04|         189|          25|\n",
      "|  e/9ce| 2021-01-03|  2021-01-03|         151|         116|\n",
      "|  s/b3d| 2021-01-03|  2021-01-03|         147|          78|\n",
      "+-------+-----------+------------+------------+------------+\n",
      "only showing top 20 rows\n",
      "\n"
     ]
    },
    {
     "name": "stderr",
     "output_type": "stream",
     "text": [
      "                                                                                \r"
     ]
    }
   ],
   "source": [
    "df \\\n",
    "    .withColumn('pickup_date', F.to_date(df.pickup_datetime)) \\\n",
    "    .withColumn('dropoff_date', F.to_date(df.dropoff_datetime)) \\\n",
    "    .withColumn('base_id', crazy_stuff_udf(df.dispatching_base_num)) \\\n",
    "    .select('base_id', 'pickup_date', 'dropoff_date', 'PULocationID', 'DOLocationID') \\\n",
    "    .show()"
   ]
  },
  {
   "cell_type": "code",
   "execution_count": 96,
   "id": "8ad60a31",
   "metadata": {},
   "outputs": [
    {
     "name": "stdout",
     "output_type": "stream",
     "text": [
      "\r\n",
      "\r\n",
      "\r\n",
      "\r\n",
      "\r\n",
      "\r\n",
      "\r\n",
      "\r\n",
      "\r\n",
      "\r\n"
     ]
    }
   ],
   "source": [
    "!head -n 10 head.csv"
   ]
  },
  {
   "cell_type": "code",
   "execution_count": null,
   "id": "6e3f342d",
   "metadata": {},
   "outputs": [],
   "source": []
  }
 ],
 "metadata": {
  "kernelspec": {
   "display_name": "Python 3 (ipykernel)",
   "language": "python",
   "name": "python3"
  },
  "language_info": {
   "codemirror_mode": {
    "name": "ipython",
    "version": 3
   },
   "file_extension": ".py",
   "mimetype": "text/x-python",
   "name": "python",
   "nbconvert_exporter": "python",
   "pygments_lexer": "ipython3",
   "version": "3.9.12"
  }
 },
 "nbformat": 4,
 "nbformat_minor": 5
}
