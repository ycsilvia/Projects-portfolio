{
 "cells": [
  {
   "cell_type": "markdown",
   "metadata": {},
   "source": [
    "## Project Setup"
   ]
  },
  {
   "cell_type": "code",
   "execution_count": null,
   "metadata": {},
   "outputs": [],
   "source": [
    "# install needed libraries\n",
    "!pip install pyarrow\n",
    "!pip install fastparquet\n",
    "!pip install geopandas\n",
    "!pip install pytest\n",
    "!pip install keplergl"
   ]
  },
  {
   "cell_type": "code",
   "execution_count": 9,
   "metadata": {},
   "outputs": [],
   "source": [
    "# all import statements needed for the project, for example:\n",
    "import pandas as pd\n",
    "import geopandas as gpd\n",
    "import sqlalchemy as db\n",
    "import sqlite3\n",
    "from sqlalchemy import Column, Date, Integer, Float, String\n",
    "from sqlalchemy.ext.declarative import declarative_base"
   ]
  },
  {
   "cell_type": "code",
   "execution_count": 10,
   "metadata": {},
   "outputs": [],
   "source": [
    "# add constants\n",
    "DATABASE_URL = \"sqlite:///project.db\"\n",
    "DATABASE_SCHEMA_FILE = \"schema.sql\"\n",
    "QUERY_DIRECTORY = \"queries\""
   ]
  },
  {
   "cell_type": "code",
   "execution_count": 11,
   "metadata": {},
   "outputs": [],
   "source": [
    "# Read dataset\n",
    "taxi_data = pd.read_csv(r\"C:\\Users\\Silvia\\Documents\\GitHub\\Projects-portfolio\\Uber_and_Yellow_Taxi\\taxi_sample.csv\",index_col='Unnamed: 0')\n",
    "uber_data = pd.read_csv(r\"C:\\Users\\Silvia\\Documents\\GitHub\\Projects-portfolio\\Uber_and_Yellow_Taxi\\uber_data.csv\",index_col='Unnamed: 0')\n",
    "hourly_weather_data = pd.read_csv(r\"C:\\Users\\Silvia\\Documents\\GitHub\\Projects-portfolio\\Uber_and_Yellow_Taxi\\hourly_weather_data.csv\",index_col='Unnamed: 0')\n",
    "daily_weather_data = pd.read_csv(r\"C:\\Users\\Silvia\\Documents\\GitHub\\Projects-portfolio\\Uber_and_Yellow_Taxi\\daily_weather_data.csv\",index_col='Unnamed: 0')\n",
    "sunrise_sunset_data = pd.read_csv(r\"C:\\Users\\Silvia\\Documents\\GitHub\\Projects-portfolio\\Uber_and_Yellow_Taxi\\sunrise_sunset_data.csv\",index_col='Unnamed: 0')"
   ]
  },
  {
   "cell_type": "markdown",
   "metadata": {},
   "source": [
    "# Storing Cleaned Data\n",
    "\n",
    "_Build a database and store the data into the database \"project.db\"._"
   ]
  },
  {
   "cell_type": "code",
   "execution_count": 12,
   "metadata": {},
   "outputs": [],
   "source": [
    "engine = db.create_engine(DATABASE_URL)"
   ]
  },
  {
   "cell_type": "code",
   "execution_count": 13,
   "metadata": {},
   "outputs": [],
   "source": [
    "Base = declarative_base()"
   ]
  },
  {
   "cell_type": "code",
   "execution_count": 14,
   "metadata": {},
   "outputs": [],
   "source": [
    "class HourlyWeather(Base):\n",
    "    __tablename__ = 'hourly_weathers'\n",
    "    \n",
    "    id = Column(Integer, primary_key=True)\n",
    "    Date = Column(Date)\n",
    "    HourlyPrecipitation = Column(Float)\n",
    "    HourlyWindSpeed = Column(Float)\n",
    "\n",
    "class DailyWeather(Base):\n",
    "    __tablename__ = 'daily_weathers'\n",
    "    \n",
    "    id = Column(Integer, primary_key=True)\n",
    "    Date = Column(Date)\n",
    "    DailyPrecipitation = Column(Float)\n",
    "    DailyAverageWindSpeed = Column(Float)\n",
    "\n",
    "class TaxiTrip(Base):\n",
    "    __tablename__ = 'taxi_trips'\n",
    "    \n",
    "    id = Column(Integer, primary_key=True)\n",
    "    pickup_datetime = Column(Date)\n",
    "    trip_distance = Column(Float)\n",
    "    pickup_longitude = Column(Float)\n",
    "    pickup_latitude = Column(Float)\n",
    "    dropoff_longitude = Column(Float)\n",
    "    dropoff_latitude = Column(Float)\n",
    "\n",
    "class UberTrip(Base):\n",
    "    __tablename__ = 'uber_trips'\n",
    "    \n",
    "    id = Column(Integer, primary_key=True)\n",
    "    pickup_datetime = Column(Date)\n",
    "    trip_distance = Column(Float)\n",
    "    pickup_longitude = Column(Float)\n",
    "    pickup_latitude = Column(Float)\n",
    "    dropoff_longitude = Column(Float)\n",
    "    dropoff_latitude = Column(Float)\n",
    "\n",
    "class Sunrise_Sunset(Base):\n",
    "    __tablename__ = 'sunrise_sunsets'\n",
    "    \n",
    "    id = Column(Integer, primary_key=True)\n",
    "    Date = Column(Date)\n",
    "    Sunrise = Column(Integer)\n",
    "    Sunset = Column(Integer)"
   ]
  },
  {
   "cell_type": "code",
   "execution_count": 15,
   "metadata": {},
   "outputs": [],
   "source": [
    "HOURLY_WEATHER_SCHEMA = \"\"\"\n",
    "CREATE TABLE IF NOT EXISTS hourly_weather\n",
    "(\n",
    "    weatherId INTEGER PRIMARY KEY AUTOINCREMENT,\n",
    "    Date DATE,\n",
    "    HourlyPrecipitation FLOAT,\n",
    "    HourlyWindSpeed FLOAT\n",
    ");\n",
    "\"\"\"\n",
    "\n",
    "DAILY_WEATHER_SCHEMA = \"\"\"\n",
    "CREATE TABLE IF NOT EXISTS daily_weather\n",
    "(\n",
    "    weatherId INTEGER PRIMARY KEY AUTOINCREMENT\n",
    "    Date DATE,\n",
    "    DailyPrecipitation FLOAT,\n",
    "    DailyAverageWindSpeed FLOAT\n",
    ");\n",
    "\"\"\"\n",
    "\n",
    "TAXI_TRIPS_SCHEMA = \"\"\"\n",
    "CREATE TABLE IF NOT EXISTS taxi_trips\n",
    "(\n",
    "    taxi_tripId INTEGER PRIMARY KEY AUTOINCREMENT,\n",
    "    pickup_datetime DATE,\n",
    "    distance FLOAT,\n",
    "    pickup_longitude FLOAT,\n",
    "    pickup_latitude FLOAT,\n",
    "    dropoff_longitude FLOAT,\n",
    "    dropoff_latitude FLOAT\n",
    ");\n",
    "\"\"\"\n",
    "\n",
    "UBER_TRIPS_SCHEMA = \"\"\"\n",
    "CREATE TABLE IF NOT EXISTS uber_trips\n",
    "(\n",
    "    uber_tripId INTEGER PRIMARY KEY AUTOINCREMENT,\n",
    "    pickup_datetime DATE,\n",
    "    distance FLOAT,\n",
    "    pickup_longitude FLOAT,\n",
    "    pickup_latitude FLOAT,\n",
    "    dropoff_longitude FLOAT,\n",
    "    dropoff_latitude FLOAT\n",
    ");\n",
    "\"\"\"\n",
    "SUNRISE_SUNSET_SCHEMA = \"\"\"\n",
    "CREATE TABLE IF NOT EXISTS sunrise_sunsets\n",
    "(\n",
    "    sunrise_sunsetID INTEGER PRIMARY KEY AUTOINCREMENT,\n",
    "    Date DATE,\n",
    "    Sunrise INTEGER,\n",
    "    Sunset INTEGER\n",
    ");\n",
    "\"\"\""
   ]
  },
  {
   "cell_type": "code",
   "execution_count": 16,
   "metadata": {},
   "outputs": [],
   "source": [
    "connection = sqlite3.connect(\"project.db\")"
   ]
  },
  {
   "cell_type": "code",
   "execution_count": 17,
   "metadata": {},
   "outputs": [
    {
     "data": {
      "text/plain": [
       "1826"
      ]
     },
     "execution_count": 17,
     "metadata": {},
     "output_type": "execute_result"
    }
   ],
   "source": [
    "uber_data.to_sql(\"uber_trips\", con = connection,schema=UBER_TRIPS_SCHEMA)\n",
    "taxi_data.to_sql(\"taxi_trips\", con = connection,schema=TAXI_TRIPS_SCHEMA)\n",
    "daily_weather_data.to_sql(\"daily_weathers\", con = connection,schema=DAILY_WEATHER_SCHEMA)\n",
    "hourly_weather_data.to_sql(\"hourly_weathers\", con = connection,schema=HOURLY_WEATHER_SCHEMA)\n",
    "sunrise_sunset_data.to_sql(\"sunrise_sunsets\", con = connection, schema=SUNRISE_SUNSET_SCHEMA)"
   ]
  }
 ],
 "metadata": {
  "kernelspec": {
   "display_name": "base",
   "language": "python",
   "name": "python3"
  },
  "language_info": {
   "codemirror_mode": {
    "name": "ipython",
    "version": 3
   },
   "file_extension": ".py",
   "mimetype": "text/x-python",
   "name": "python",
   "nbconvert_exporter": "python",
   "pygments_lexer": "ipython3",
   "version": "3.10.9"
  }
 },
 "nbformat": 4,
 "nbformat_minor": 2
}
