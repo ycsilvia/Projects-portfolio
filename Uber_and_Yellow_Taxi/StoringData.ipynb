{
 "cells": [
  {
   "cell_type": "markdown",
   "metadata": {},
   "source": [
    "## Project Setup"
   ]
  },
  {
   "cell_type": "code",
   "execution_count": null,
   "metadata": {},
   "outputs": [],
   "source": [
    "# install needed libraries\n",
    "!pip install pyarrow\n",
    "!pip install fastparquet\n",
    "!pip install geopandas\n",
    "!pip install pytest\n",
    "!pip install keplergl\n",
    "!pip install bs4"
   ]
  },
  {
   "cell_type": "code",
   "execution_count": null,
   "metadata": {},
   "outputs": [],
   "source": [
    "# all import statements needed for the project, for example:\n",
    "import math\n",
    "import bs4\n",
    "import matplotlib.pyplot as plt\n",
    "import pandas as pd\n",
    "import geopandas as gpd\n",
    "import requests\n",
    "import sqlalchemy as db\n",
    "import sqlite3\n",
    "import numpy as np\n",
    "import matplotlib.animation as animation\n",
    "import keplergl\n",
    "from keplergl import KeplerGl\n",
    "import statistics\n",
    "import unittest"
   ]
  },
  {
   "cell_type": "code",
   "execution_count": null,
   "metadata": {},
   "outputs": [],
   "source": [
    "# add other constants\n",
    "TAXI_URL = \"https://www1.nyc.gov/site/tlc/about/tlc-trip-record-data.page\"\n",
    "UBER_CSV = \"uber_rides_sample.csv\"\n",
    "NEW_YORK_BOX_COORDS = ((40.560445, -74.242330), (40.908524, -73.717047))\n",
    "DATABASE_URL = \"sqlite:///project.db\"\n",
    "DATABASE_SCHEMA_FILE = \"schema.sql\"\n",
    "QUERY_DIRECTORY = \"queries\""
   ]
  },
  {
   "cell_type": "code",
   "execution_count": null,
   "metadata": {},
   "outputs": [],
   "source": [
    "taxi_data = pd.read_csv(r\"C:\\Users\\Silvia\\Documents\\GitHub\\Projects-portfolio\\Uber_and_Yellow_Taxi\\taxi_sample.csv\",index_col='Unnamed: 0')"
   ]
  },
  {
   "cell_type": "markdown",
   "metadata": {},
   "source": [
    "# Storing Cleaned Data\n",
    "\n",
    "_Write some prose that tells the reader what you're about to do here._"
   ]
  },
  {
   "cell_type": "code",
   "execution_count": null,
   "metadata": {},
   "outputs": [],
   "source": [
    "engine = db.create_engine(DATABASE_URL)"
   ]
  },
  {
   "cell_type": "code",
   "execution_count": null,
   "metadata": {},
   "outputs": [],
   "source": [
    "from sqlalchemy import Column, Date, Integer, Float, String\n",
    "from sqlalchemy.ext.declarative import declarative_base\n",
    "\n",
    "Base = declarative_base()"
   ]
  },
  {
   "cell_type": "code",
   "execution_count": null,
   "metadata": {},
   "outputs": [],
   "source": [
    "class HourlyWeather(Base):\n",
    "    __tablename__ = 'hourly_weathers'\n",
    "    \n",
    "    id = Column(Integer, primary_key=True)\n",
    "    Date = Column(Date)\n",
    "    HourlyPrecipitation = Column(Float)\n",
    "    HourlyWindSpeed = Column(Float)\n",
    "\n",
    "class DailyWeather(Base):\n",
    "    __tablename__ = 'daily_weathers'\n",
    "    \n",
    "    id = Column(Integer, primary_key=True)\n",
    "    Date = Column(Date)\n",
    "    DailyPrecipitation = Column(Float)\n",
    "    DailyAverageWindSpeed = Column(Float)\n",
    "\n",
    "class TaxiTrip(Base):\n",
    "    __tablename__ = 'taxi_trips'\n",
    "    \n",
    "    id = Column(Integer, primary_key=True)\n",
    "    pickup_datetime = Column(Date)\n",
    "    trip_distance = Column(Float)\n",
    "    pickup_longitude = Column(Float)\n",
    "    pickup_latitude = Column(Float)\n",
    "    dropoff_longitude = Column(Float)\n",
    "    dropoff_latitude = Column(Float)\n",
    "\n",
    "class UberTrip(Base):\n",
    "    __tablename__ = 'uber_trips'\n",
    "    \n",
    "    id = Column(Integer, primary_key=True)\n",
    "    pickup_datetime = Column(Date)\n",
    "    trip_distance = Column(Float)\n",
    "    pickup_longitude = Column(Float)\n",
    "    pickup_latitude = Column(Float)\n",
    "    dropoff_longitude = Column(Float)\n",
    "    dropoff_latitude = Column(Float)\n",
    "\n",
    "class Sunrise_Sunset(Base):\n",
    "    __tablename__ = 'sunrise_sunsets'\n",
    "    \n",
    "    id = Column(Integer, primary_key=True)\n",
    "    Date = Column(Date)\n",
    "    Sunrise = Column(Integer)\n",
    "    Sunset = Column(Integer)"
   ]
  },
  {
   "cell_type": "code",
   "execution_count": null,
   "metadata": {},
   "outputs": [],
   "source": [
    "HOURLY_WEATHER_SCHEMA = \"\"\"\n",
    "CREATE TABLE IF NOT EXISTS hourly_weather\n",
    "(\n",
    "    weatherId INTEGER PRIMARY KEY AUTOINCREMENT,\n",
    "    Date DATE,\n",
    "    HourlyPrecipitation FLOAT,\n",
    "    HourlyWindSpeed FLOAT\n",
    ");\n",
    "\"\"\"\n",
    "\n",
    "DAILY_WEATHER_SCHEMA = \"\"\"\n",
    "CREATE TABLE IF NOT EXISTS daily_weather\n",
    "(\n",
    "    weatherId INTEGER PRIMARY KEY AUTOINCREMENT\n",
    "    Date DATE,\n",
    "    DailyPrecipitation FLOAT,\n",
    "    DailyAverageWindSpeed FLOAT\n",
    ");\n",
    "\"\"\"\n",
    "\n",
    "TAXI_TRIPS_SCHEMA = \"\"\"\n",
    "CREATE TABLE IF NOT EXISTS taxi_trips\n",
    "(\n",
    "    taxi_tripId INTEGER PRIMARY KEY AUTOINCREMENT,\n",
    "    pickup_datetime DATE,\n",
    "    distance FLOAT,\n",
    "    pickup_longitude FLOAT,\n",
    "    pickup_latitude FLOAT,\n",
    "    dropoff_longitude FLOAT,\n",
    "    dropoff_latitude FLOAT\n",
    ");\n",
    "\"\"\"\n",
    "\n",
    "UBER_TRIPS_SCHEMA = \"\"\"\n",
    "CREATE TABLE IF NOT EXISTS uber_trips\n",
    "(\n",
    "    uber_tripId INTEGER PRIMARY KEY AUTOINCREMENT,\n",
    "    pickup_datetime DATE,\n",
    "    distance FLOAT,\n",
    "    pickup_longitude FLOAT,\n",
    "    pickup_latitude FLOAT,\n",
    "    dropoff_longitude FLOAT,\n",
    "    dropoff_latitude FLOAT\n",
    ");\n",
    "\"\"\"\n",
    "SUNRISE_SUNSET_SCHEMA = \"\"\"\n",
    "CREATE TABLE IF NOT EXISTS sunrise_sunsets\n",
    "(\n",
    "    sunrise_sunsetID INTEGER PRIMARY KEY AUTOINCREMENT,\n",
    "    Date DATE,\n",
    "    Sunrise INTEGER,\n",
    "    Sunset INTEGER\n",
    ");\n",
    "\"\"\""
   ]
  },
  {
   "cell_type": "code",
   "execution_count": null,
   "metadata": {},
   "outputs": [],
   "source": [
    "connection = sqlite3.connect(\"project.db\")"
   ]
  },
  {
   "cell_type": "code",
   "execution_count": null,
   "metadata": {},
   "outputs": [],
   "source": [
    "uber_data.to_sql(\"uber_trips\", con = connection,schema=UBER_TRIPS_SCHEMA)\n",
    "taxi_data.to_sql(\"taxi_trips\", con = connection,schema=TAXI_TRIPS_SCHEMA)\n",
    "daily_weather_data.to_sql(\"daily_weathers\", con = connection,schema=DAILY_WEATHER_SCHEMA)\n",
    "hourly_weather_data.to_sql(\"hourly_weathers\", con = connection,schema=HOURLY_WEATHER_SCHEMA)\n",
    "sunrise_sunset_data.to_sql(\"sunrise_sunsets\", con = connection, schema=SUNRISE_SUNSET_SCHEMA)"
   ]
  }
 ],
 "metadata": {
  "kernelspec": {
   "display_name": "base",
   "language": "python",
   "name": "python3"
  },
  "language_info": {
   "name": "python",
   "version": "3.10.9"
  }
 },
 "nbformat": 4,
 "nbformat_minor": 2
}
